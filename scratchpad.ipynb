{
 "cells": [
  {
   "cell_type": "code",
   "execution_count": 2,
   "metadata": {},
   "outputs": [],
   "source": [
    "from notion_client import Client\n",
    "from pprint import pprint\n",
    "\n",
    "from src.thought.utils import load_env"
   ]
  },
  {
   "cell_type": "code",
   "execution_count": 3,
   "metadata": {},
   "outputs": [],
   "source": [
    "load_env()"
   ]
  },
  {
   "cell_type": "code",
   "execution_count": 4,
   "metadata": {},
   "outputs": [
    {
     "data": {
      "text/plain": [
       "'453a05ea79a8921f8c6b33f2ff70f2c364bb9484aae3ca617ff43608fecc3e03e2b5930114e34e75f537556ddc6a66e8179f5d337c27c48896000e09f2fb901bb935b064472b55e1139f48604f9b'"
      ]
     },
     "execution_count": 4,
     "metadata": {},
     "output_type": "execute_result"
    }
   ],
   "source": [
    "os.environ[\"NOTION_ACCESS_TOKEN\"]"
   ]
  },
  {
   "cell_type": "code",
   "execution_count": 5,
   "metadata": {},
   "outputs": [],
   "source": [
    "# notion = Client(auth=os.environ[\"NOTION_ACCESS_TOKEN\"])\n",
    "notion = Client(auth='secret_cxcvRoXhtPodDhNX5n8CipBxrxsd9k0a6tx8grI7fzl')"
   ]
  },
  {
   "cell_type": "code",
   "execution_count": 6,
   "metadata": {},
   "outputs": [
    {
     "name": "stdout",
     "output_type": "stream",
     "text": [
      "{'has_more': False,\n",
      " 'next_cursor': None,\n",
      " 'object': 'list',\n",
      " 'results': [{'avatar_url': None,\n",
      "              'id': 'e0845b6a-bab5-432f-9a21-88d9b2386df5',\n",
      "              'name': 'Tom Hunter',\n",
      "              'object': 'user',\n",
      "              'person': {'email': 'tshunter@usc.edu'},\n",
      "              'type': 'person'},\n",
      "             {'avatar_url': None,\n",
      "              'bot': {'owner': {'type': 'workspace', 'workspace': True}},\n",
      "              'id': '5e586468-8a1d-4dd5-af11-03b3c0a9d005',\n",
      "              'name': 'Thought',\n",
      "              'object': 'user',\n",
      "              'type': 'bot'}],\n",
      " 'type': 'user',\n",
      " 'user': {}}\n"
     ]
    }
   ],
   "source": [
    "\n",
    "list_users_response = notion.users.list()\n",
    "pprint(list_users_response)"
   ]
  },
  {
   "cell_type": "code",
   "execution_count": 8,
   "metadata": {},
   "outputs": [],
   "source": [
    "my_page = notion.databases.query(\n",
    "    **{\n",
    "        \"database_id\": \"44063158a21c408789f3c43e769d6696\",\n",
    "        \"filter\": {\n",
    "            \"property\": \"Name\",\n",
    "            \"rich_text\": {\n",
    "                \"contains\": \"Dirty\",\n",
    "            },\n",
    "        },\n",
    "    }\n",
    ")"
   ]
  },
  {
   "cell_type": "code",
   "execution_count": 9,
   "metadata": {},
   "outputs": [
    {
     "data": {
      "text/plain": [
       "{'object': 'list',\n",
       " 'results': [{'object': 'page',\n",
       "   'id': 'c39d161d-fd2a-4751-b3e1-163ee01839c3',\n",
       "   'created_time': '2022-06-30T18:37:00.000Z',\n",
       "   'last_edited_time': '2022-06-30T18:38:00.000Z',\n",
       "   'created_by': {'object': 'user',\n",
       "    'id': 'e0845b6a-bab5-432f-9a21-88d9b2386df5'},\n",
       "   'last_edited_by': {'object': 'user',\n",
       "    'id': 'e0845b6a-bab5-432f-9a21-88d9b2386df5'},\n",
       "   'cover': None,\n",
       "   'icon': None,\n",
       "   'parent': {'type': 'database_id',\n",
       "    'database_id': '44063158-a21c-4087-89f3-c43e769d6696'},\n",
       "   'archived': False,\n",
       "   'properties': {'URL': {'id': '%24x2-',\n",
       "     'type': 'url',\n",
       "     'url': 'https://embed.documentcloud.org/documents/21579810-dirty-dozen-and-clean-fifteen/?embed=1&responsive=1&title=1&onlyshoworg=1'},\n",
       "    'Extracted Review Notes?': {'id': '2d43',\n",
       "     'type': 'checkbox',\n",
       "     'checkbox': False},\n",
       "    'Created': {'id': 'C%2C_E',\n",
       "     'type': 'created_time',\n",
       "     'created_time': '2022-06-30T18:37:00.000Z'},\n",
       "    'Tags': {'id': 'YT%3Dh',\n",
       "     'type': 'multi_select',\n",
       "     'multi_select': [{'id': 'c100a853-779a-44f7-8f85-3abb11f17580',\n",
       "       'name': 'Food',\n",
       "       'color': 'red'}]},\n",
       "    'First Pass': {'id': 'jeKR', 'type': 'checkbox', 'checkbox': False},\n",
       "    'Name': {'id': 'title',\n",
       "     'type': 'title',\n",
       "     'title': [{'type': 'text',\n",
       "       'text': {'content': 'Dirty Dozen and Clean Fifteen - DocumentCloud',\n",
       "        'link': None},\n",
       "       'annotations': {'bold': False,\n",
       "        'italic': False,\n",
       "        'strikethrough': False,\n",
       "        'underline': False,\n",
       "        'code': False,\n",
       "        'color': 'default'},\n",
       "       'plain_text': 'Dirty Dozen and Clean Fifteen - DocumentCloud',\n",
       "       'href': None}]}},\n",
       "   'url': 'https://www.notion.so/Dirty-Dozen-and-Clean-Fifteen-DocumentCloud-c39d161dfd2a4751b3e1163ee01839c3'},\n",
       "  {'object': 'page',\n",
       "   'id': '2a429d66-e3e0-4101-b202-61b9e5b95457',\n",
       "   'created_time': '2020-10-22T12:30:00.000Z',\n",
       "   'last_edited_time': '2020-10-24T23:29:00.000Z',\n",
       "   'created_by': {'object': 'user',\n",
       "    'id': 'e0845b6a-bab5-432f-9a21-88d9b2386df5'},\n",
       "   'last_edited_by': {'object': 'user',\n",
       "    'id': 'e0845b6a-bab5-432f-9a21-88d9b2386df5'},\n",
       "   'cover': None,\n",
       "   'icon': None,\n",
       "   'parent': {'type': 'database_id',\n",
       "    'database_id': '44063158-a21c-4087-89f3-c43e769d6696'},\n",
       "   'archived': False,\n",
       "   'properties': {'URL': {'id': '%24x2-',\n",
       "     'type': 'url',\n",
       "     'url': 'https://www.ewg.org/foodnews/dirty-dozen.php'},\n",
       "    'Extracted Review Notes?': {'id': '2d43',\n",
       "     'type': 'checkbox',\n",
       "     'checkbox': False},\n",
       "    'Created': {'id': 'C%2C_E',\n",
       "     'type': 'created_time',\n",
       "     'created_time': '2020-10-22T12:30:00.000Z'},\n",
       "    'Tags': {'id': 'YT%3Dh',\n",
       "     'type': 'multi_select',\n",
       "     'multi_select': [{'id': 'c100a853-779a-44f7-8f85-3abb11f17580',\n",
       "       'name': 'Food',\n",
       "       'color': 'red'},\n",
       "      {'id': '9cbca98c-b041-46a4-9891-91ed28f32929',\n",
       "       'name': 'Nutrition',\n",
       "       'color': 'blue'}]},\n",
       "    'First Pass': {'id': 'jeKR', 'type': 'checkbox', 'checkbox': True},\n",
       "    'Name': {'id': 'title',\n",
       "     'type': 'title',\n",
       "     'title': [{'type': 'text',\n",
       "       'text': {'content': \"EWG's 2020 Shopper's Guide to Pesticides in Produce | Dirty Dozen\",\n",
       "        'link': None},\n",
       "       'annotations': {'bold': False,\n",
       "        'italic': False,\n",
       "        'strikethrough': False,\n",
       "        'underline': False,\n",
       "        'code': False,\n",
       "        'color': 'default'},\n",
       "       'plain_text': \"EWG's 2020 Shopper's Guide to Pesticides in Produce | Dirty Dozen\",\n",
       "       'href': None}]}},\n",
       "   'url': 'https://www.notion.so/EWG-s-2020-Shopper-s-Guide-to-Pesticides-in-Produce-Dirty-Dozen-2a429d66e3e04101b20261b9e5b95457'}],\n",
       " 'next_cursor': None,\n",
       " 'has_more': False,\n",
       " 'type': 'page',\n",
       " 'page': {}}"
      ]
     },
     "execution_count": 9,
     "metadata": {},
     "output_type": "execute_result"
    }
   ],
   "source": [
    "my_page"
   ]
  },
  {
   "cell_type": "code",
   "execution_count": null,
   "metadata": {},
   "outputs": [],
   "source": []
  }
 ],
 "metadata": {
  "kernelspec": {
   "display_name": "Python 3.9.13 ('thought-NArX2nAD-python')",
   "language": "python",
   "name": "python3"
  },
  "language_info": {
   "codemirror_mode": {
    "name": "ipython",
    "version": 3
   },
   "file_extension": ".py",
   "mimetype": "text/x-python",
   "name": "python",
   "nbconvert_exporter": "python",
   "pygments_lexer": "ipython3",
   "version": "3.9.13"
  },
  "orig_nbformat": 4,
  "vscode": {
   "interpreter": {
    "hash": "0bbeabfb04e12127f217d21c0fd9bfc17f2312e36abd0d10baf6365358021ddf"
   }
  }
 },
 "nbformat": 4,
 "nbformat_minor": 2
}
